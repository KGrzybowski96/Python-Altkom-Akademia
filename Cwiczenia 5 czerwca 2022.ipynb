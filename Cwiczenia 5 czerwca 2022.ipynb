{
 "cells": [
  {
   "cell_type": "code",
   "execution_count": null,
   "id": "a6f4197a-c8f8-4a24-ba4a-4517e5e2fbd9",
   "metadata": {},
   "outputs": [],
   "source": [
    "lista = [1, 2, 3, 4, 5]\n",
    "\n",
    "wycinek = lista[2:4]\n",
    "wycinek = lista [2:-1]\n",
    "wycinek = lista[-3:-1]\n",
    "wycinek = lista[-3:4]\n",
    "\n",
    "print(wycinek)"
   ]
  },
  {
   "cell_type": "code",
   "execution_count": null,
   "id": "49e604d6-b5ff-4871-8a59-562d519d03b2",
   "metadata": {},
   "outputs": [],
   "source": [
    "#striding\n",
    "\n",
    "lista = [10, 20, 30, 40, 50, 60, 70, 80, 90, 100]\n",
    "\n",
    "striding = lista[0:-3:2]\n",
    "\n",
    "print(striding)"
   ]
  },
  {
   "cell_type": "code",
   "execution_count": null,
   "id": "2ac63a4d-6aa0-4bca-a17e-ce155df8b7ae",
   "metadata": {},
   "outputs": [],
   "source": [
    "#sekwencja\n",
    "\n",
    "c = 'black', 10,\n",
    "print(c)\n",
    "\n",
    "kolor, kod = c\n",
    "print(kolor)\n",
    "\n",
    "print(kod)\n",
    "\n",
    "\n",
    "#pominięcie składowych\n",
    "\n",
    "h, d, _, y = (12, 21, 10, 2021)\n",
    "print(h)\n",
    "print(y)"
   ]
  },
  {
   "cell_type": "code",
   "execution_count": null,
   "id": "f5ad7fae-51c5-4e73-987e-cc59d1bd6561",
   "metadata": {},
   "outputs": [],
   "source": [
    "import math\n",
    "\n",
    "koniec = False\n",
    "pozycja = (0,0)\n",
    "\n",
    "while not koniec:\n",
    "    polecenie = input(\"Podaj polecenie w formacie '<kierunek> <kroki>': \")\n",
    "\n",
    "    #jeśli polecenie jest puste, tzn., że kończy się\n",
    "    if polecenie:\n",
    "        #print(polecenie)\n",
    "        lista = polecenie.split()\n",
    "        #print(lista)\n",
    "        kierunek, kroki = lista\n",
    "        kroki = int(kroki)\n",
    "        kierunek = kierunek.upper()\n",
    "        print(kierunek, kroki)\n",
    "\n",
    "        if kierunek == 'N':\n",
    "            pozycja = (pozycja[0], pozycja [1]+kroki)\n",
    "        elif kierunek =='S':\n",
    "            pozycja = (pozycja[0], pozycja[1]-kroki)\n",
    "        elif kierunek =='E':\n",
    "            pozycja = (pozycja[0]+kroki, pozycja[1])\n",
    "        elif kierunek == 'W':\n",
    "            pozycja = (pozycja[0]-kroki, pozycja[1])\n",
    "        else :\n",
    "            print(\"Nieznany kierunek\")\n",
    "\n",
    "        print(f\"Po poleceniu {polecenie} obecna pozycja robota to {pozycja}\")\n",
    "\n",
    "    else:\n",
    "        odległość = math.hypot(pozycja[0], pozycja[1])\n",
    "        print(f\"Robot zakonczył działanie w odległości {odległość} od bazy\")\n",
    "        koniec = True"
   ]
  },
  {
   "cell_type": "code",
   "execution_count": null,
   "id": "4d6d32e0-5ef1-4a9f-b6ac-1964c995d018",
   "metadata": {},
   "outputs": [],
   "source": [
    "lista = []\n",
    "\n",
    "for i in range(1,101):\n",
    "    lista.append(i**2)\n",
    "print(lista)"
   ]
  },
  {
   "cell_type": "code",
   "execution_count": null,
   "id": "c42050b3-0e60-48bb-98f9-a03d5f81b304",
   "metadata": {},
   "outputs": [],
   "source": [
    "#pierwszy sposób\n",
    "lista = []\n",
    "\n",
    "for i in range(1, 101):\n",
    "    if i % 2 == 0:\n",
    "        lista.append(i**2)\n",
    "        \n",
    "print(lista)\n",
    "\n",
    "\n",
    "#drugi sposób\n",
    "lista2 = [i**2 for i in range(1, 101) if i % 2 == 0]\n",
    "print(lista2)\n",
    "\n",
    "print(lista == lista2)"
   ]
  },
  {
   "cell_type": "code",
   "execution_count": null,
   "id": "6b7162d5-c99a-4e10-8213-79f5947549b2",
   "metadata": {},
   "outputs": [],
   "source": [
    "#ćwiczenie 7.1\n",
    "\n",
    "name = 'United Nations Educational, Scientific and Cultural Organization'\n",
    "slowa = name.split()\n",
    "skrot = ''.join([slowa[0] for slowa in name if slowa[0].isupper()])\n",
    "\n",
    "print(skrot)\n"
   ]
  },
  {
   "cell_type": "code",
   "execution_count": null,
   "id": "bfb6e2b7-e47b-470d-926a-2617c410fe62",
   "metadata": {},
   "outputs": [],
   "source": [
    "napis = \"Co mi dał duch? Cud, ład i moc.\"\n",
    "\n",
    "napis2 = ''\n",
    "for l in napis:\n",
    "    if l.isalpha():\n",
    "        napis2 += l.lower()\n",
    "        \n",
    "napis3 = ''.join([l.lower() for l in napis if l.isalpha()])\n",
    "        \n",
    "print(napis2)\n",
    "print(napis3)"
   ]
  },
  {
   "cell_type": "code",
   "execution_count": null,
   "id": "fab465a8-b10d-456f-adb5-009d5eb9bc1d",
   "metadata": {},
   "outputs": [],
   "source": [
    "#zadanie 7.3\n",
    "\n",
    "import numpy as np\n",
    "\n",
    "m = ['January', 'February', 'March', 'April', 'May', 'June', 'July', 'August', 'September', 'October', 'November', 'December']\n",
    "\n",
    "striding = m[0::3]\n",
    "print(striding)\n",
    "\n",
    "kwartaly = [[m[j] for j in range(i, i+3)] for i in range(0, 12, 3)]\n",
    "print(kwartaly)\n"
   ]
  },
  {
   "cell_type": "code",
   "execution_count": null,
   "id": "44099b3b-0cc8-4ce5-ae3e-f138cdf0ee3f",
   "metadata": {},
   "outputs": [],
   "source": [
    "zbior = {1, 2, 3, 2, 3, 4, 5, 3, 2}\n",
    "print(zbior)"
   ]
  },
  {
   "cell_type": "code",
   "execution_count": null,
   "id": "7d01cc56-133d-4029-8460-d541010dbbd7",
   "metadata": {},
   "outputs": [],
   "source": [
    "pri = {1, 2, 3, 5, 7, 11, 13, 17, 19}\n",
    "fib = {1, 2, 3, 5, 8, 13 ,21}\n",
    "\n",
    "print(pri - fib)\n",
    "print(pri | fib)\n",
    "print(pri ^ fib)"
   ]
  },
  {
   "cell_type": "code",
   "execution_count": null,
   "id": "7f4eb9bd-61a4-4854-b7a3-ffbac2e84991",
   "metadata": {},
   "outputs": [],
   "source": [
    "s = {}\n",
    "print(s)\n",
    "s[1] = 'jeden'\n",
    "s[2] = 'dwa'\n",
    "print(s)\n",
    "print(s.keys())\n",
    "print(s.values())\n",
    "print(s.items())\n",
    "\n",
    "for k, v in s.items():\n",
    "    print(k, v)"
   ]
  },
  {
   "cell_type": "code",
   "execution_count": null,
   "id": "9f36abd0-8319-4387-814a-0040ae09e1b3",
   "metadata": {},
   "outputs": [],
   "source": [
    "kw = {}\n",
    "for i in range(1, 11):\n",
    "    kw[i] = i**2\n",
    "print(kw)\n",
    "\n",
    "kw2 = {i:i**2 for i in range(1,11)}\n",
    "print(kw2)"
   ]
  },
  {
   "cell_type": "code",
   "execution_count": null,
   "id": "92a8f675-422a-47b0-9a46-108a259cdec3",
   "metadata": {},
   "outputs": [],
   "source": [
    "odpowiedniki = {1000: 'M', 900: 'CM', 500: 'D', 400: 'CD', 100: 'C', 90: 'XC', 50: 'L', 40: 'XL', 10: 'X', 9: 'IX', 8: 'VIII', 7: 'VII', 6: 'VI', 5: 'V', 4: 'IV', 1:'I'}\n",
    "#odpowiedniki = [(1000, 'M'), (900, 'CM'), (500, 'D'), (400, 'CD'), (100, 'C'), (90, 'XC'), (50, 'L'), (40, 'XL'), (10, 'X'), (9, 'IX'), (5, 'V'), (4, 'IV'), (1, 'I')]\n",
    "liczba = int(input(\"podaj liczbe: \") or 14)\n",
    "\n",
    "rzymska = ''\n",
    "while liczba:\n",
    "    for l, m in sorted(odpowiedniki.items(), reverse=True):\n",
    "        while liczba >= l:\n",
    "            rzymska = rzymska + m\n",
    "            liczba = liczba - l\n",
    "    print(rzymska)\n",
    "\n",
    "if liczba > 4000:\n",
    "    print(\"Prosze o inna liczbe\")"
   ]
  },
  {
   "cell_type": "code",
   "execution_count": null,
   "id": "82d87017-3c0c-4b8e-834c-4aea671fa54d",
   "metadata": {},
   "outputs": [],
   "source": [
    "#ćwiczenie 9.2\n",
    "lista_osob = [\n",
    "    {'imie': 'Stefan', 'nazwisko': 'Mierzyński', 'wiek': 30, 'miasto': 'Bydgoszcz', 'branża': 'Marketing'},  \n",
    "    {'imie': 'Maria', 'nazwisko': 'Kowalska', 'wiek': 25, 'miasto': 'Warszawa', 'branża': 'HR'},  \n",
    "    {'imie': 'Konrad', 'nazwisko': 'Grzybowski', 'wiek': 26, 'miasto': 'Wroclaw', 'branża': 'IT'},\n",
    "    {'imie': 'Jan', 'nazwisko': 'But', 'wiek': 55, 'miasto': 'Płock', 'branża': 'Logistyka'},  \n",
    "    {'imie': 'Janina', 'nazwisko': 'Kopała', 'wiek': 47, 'miasto': 'Radom', 'branża': 'Produkcja'},  \n",
    "    {'imie': 'Janusz', 'nazwisko': 'Kowalski', 'wiek': 56, 'miasto': 'Sopot', 'branża': 'Hotelarstwo'},  \n",
    "    {'imie': 'Małgorzata', 'nazwisko': 'Łopata', 'wiek': 23, 'miasto': 'Sandomierz', 'branża': 'Sprzedaż'},\n",
    "    {'imie': 'Leszek', 'nazwisko': 'Wesołowski', 'wiek': 36, 'miasto': 'Poznań', 'branża': 'Sprzedaż'}  \n",
    "]\n",
    "\n",
    "#print(lista_osob)\n",
    "\n",
    "#mlodsze_niz_30 = [osoba for osoba in lista_osob if osoba['wiek'] < 30]\n",
    "#print(mlodsze_niz_30)\n",
    "\n",
    "branza_srzedaz = [osoba for osoba in lista_osob if osoba['branża'] == 'Sprzedaż']\n",
    "print(f\"Lista osób, które pracują w sprzedaży {branza_srzedaz}\")"
   ]
  },
  {
   "cell_type": "code",
   "execution_count": null,
   "id": "d900fc4d-1796-4f2d-b99b-56c89bb666e2",
   "metadata": {},
   "outputs": [],
   "source": [
    "def fun_2(a, b, c=30):\n",
    "    print(a, b, c)\n",
    "\n",
    "fun_2(1, 2)\n",
    "fun_2(1, 2, 3)\n",
    "fun_2(c=3, a=1, b=2)"
   ]
  },
  {
   "cell_type": "code",
   "execution_count": null,
   "id": "a792f07b-86c3-43d0-a9cf-4136db92b208",
   "metadata": {},
   "outputs": [],
   "source": [
    "def fun_3(a, *args):\n",
    "    print(a, args)\n",
    "\n",
    "fun_3(1)\n",
    "fun_3(1,2,3)"
   ]
  },
  {
   "cell_type": "code",
   "execution_count": null,
   "id": "33a3119a-551a-4133-8962-7b74dab5c390",
   "metadata": {},
   "outputs": [],
   "source": [
    "def fun_4(a, **kwargs):\n",
    "    print(a, kwargs)\n",
    "    \n",
    "fun_4(1)\n",
    "fun_4(1, x=10, y=20, z=30)"
   ]
  },
  {
   "cell_type": "code",
   "execution_count": null,
   "id": "c5922e65-8c8b-4bdd-b761-4a2ece4eae01",
   "metadata": {},
   "outputs": [],
   "source": [
    "dict(a=12, b=13)\n"
   ]
  },
  {
   "cell_type": "code",
   "execution_count": null,
   "id": "2be621de-0846-462e-a51f-7133ea02a3c2",
   "metadata": {},
   "outputs": [],
   "source": [
    "def fun_5(a, /, b, c):\n",
    "    print(a, b, c)\n",
    "    \n",
    "fun_5(1, b=2, c=3)\n",
    "\n",
    "fun_5(1, b=2, c=3)"
   ]
  },
  {
   "cell_type": "code",
   "execution_count": null,
   "id": "2622e867-b707-49f6-8612-5a707d72abbd",
   "metadata": {},
   "outputs": [],
   "source": [
    "e = 20\n",
    "\n",
    "def fun_6(a, /, b, *, c):\n",
    "    d = 10\n",
    "    print(a, b, c)\n",
    "    print(locals())\n",
    "    print(globals())\n",
    "    print(e)\n",
    "    \n",
    "fun_6(1, 2, c=3)\n",
    "fun_6(1, b=2, c=3)"
   ]
  },
  {
   "cell_type": "code",
   "execution_count": 6,
   "id": "9d768c86-01c2-49f6-989f-0ed45d211701",
   "metadata": {},
   "outputs": [
    {
     "name": "stdout",
     "output_type": "stream",
     "text": [
      "2\n",
      "4\n",
      "6\n",
      "8\n",
      "10\n",
      "12\n",
      "14\n",
      "16\n",
      "18\n",
      "20\n",
      "22\n",
      "24\n",
      "26\n",
      "28\n",
      "30\n"
     ]
    }
   ],
   "source": [
    "# uzyskanie liczb parzystych (funkcja filter)\n",
    "lista = [1, 2, 3, 4, 5, 6, 7, 8, 9, 10, 11, 12, 13, 14, 15, 16, 17, 18, 19, 20, 21, 22, 23, 24, 25, 26, 27, 28, 29, 30]\n",
    "\n",
    "def czy_parzysta(l):\n",
    "    return l%2 == 0\n",
    "parzyste = filter(czy_parzysta, lista)\n",
    "\n",
    "# print(*parzyste)\n",
    "\n",
    "for l in parzyste:\n",
    "    print(l)"
   ]
  },
  {
   "cell_type": "code",
   "execution_count": null,
   "id": "16689384-f81b-48d1-9764-7088a3c07288",
   "metadata": {},
   "outputs": [],
   "source": []
  }
 ],
 "metadata": {
  "kernelspec": {
   "display_name": "Python 3 (ipykernel)",
   "language": "python",
   "name": "python3"
  },
  "language_info": {
   "codemirror_mode": {
    "name": "ipython",
    "version": 3
   },
   "file_extension": ".py",
   "mimetype": "text/x-python",
   "name": "python",
   "nbconvert_exporter": "python",
   "pygments_lexer": "ipython3",
   "version": "3.9.12"
  }
 },
 "nbformat": 4,
 "nbformat_minor": 5
}
