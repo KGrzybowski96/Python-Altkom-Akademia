{
 "cells": [
  {
   "cell_type": "code",
   "execution_count": 1,
   "id": "d9497d8c-1817-49dd-80e5-6bacc45f8faf",
   "metadata": {},
   "outputs": [
    {
     "name": "stdout",
     "output_type": "stream",
     "text": [
      "The Zen of Python, by Tim Peters\n",
      "\n",
      "Beautiful is better than ugly.\n",
      "Explicit is better than implicit.\n",
      "Simple is better than complex.\n",
      "Complex is better than complicated.\n",
      "Flat is better than nested.\n",
      "Sparse is better than dense.\n",
      "Readability counts.\n",
      "Special cases aren't special enough to break the rules.\n",
      "Although practicality beats purity.\n",
      "Errors should never pass silently.\n",
      "Unless explicitly silenced.\n",
      "In the face of ambiguity, refuse the temptation to guess.\n",
      "There should be one-- and preferably only one --obvious way to do it.\n",
      "Although that way may not be obvious at first unless you're Dutch.\n",
      "Now is better than never.\n",
      "Although never is often better than *right* now.\n",
      "If the implementation is hard to explain, it's a bad idea.\n",
      "If the implementation is easy to explain, it may be a good idea.\n",
      "Namespaces are one honking great idea -- let's do more of those!\n"
     ]
    }
   ],
   "source": [
    "import this"
   ]
  },
  {
   "cell_type": "code",
   "execution_count": 2,
   "id": "d76fba6c-7738-407d-a901-751acd167b7d",
   "metadata": {},
   "outputs": [
    {
     "name": "stdout",
     "output_type": "stream",
     "text": [
      "Cześć!\n"
     ]
    }
   ],
   "source": [
    "print(\"Cześć!\")"
   ]
  },
  {
   "cell_type": "markdown",
   "id": "2bcfa3ad-4275-415f-b95f-7189b28c28c7",
   "metadata": {},
   "source": [
    "dowolny tekst"
   ]
  },
  {
   "cell_type": "markdown",
   "id": "9737f19c-93c5-4d65-8861-38df559e3c6a",
   "metadata": {},
   "source": [
    "# nagłówek\n",
    "## nagłówek\n",
    "\n",
    "### nagłówek\n",
    "\n",
    "__pogrubienie__  \n",
    "_kursywa_  \n",
    "___kursywa i pogrubienie___  \n",
    "*kursywa*"
   ]
  },
  {
   "cell_type": "markdown",
   "id": "85f84b07-1957-4a65-a425-ed79bc63d1fc",
   "metadata": {},
   "source": [
    "$ a^2 + b^2 = c^2 $"
   ]
  },
  {
   "cell_type": "code",
   "execution_count": 25,
   "id": "0967eb7a-f201-4c5d-a7a1-2a0ec205e515",
   "metadata": {},
   "outputs": [
    {
     "name": "stdout",
     "output_type": "stream",
     "text": [
      "4\n"
     ]
    }
   ],
   "source": [
    "import random\n",
    "print(random.randrange(1,6))"
   ]
  },
  {
   "cell_type": "code",
   "execution_count": 30,
   "id": "dc0a2a89-57a3-40f2-beb3-961c61a31b8f",
   "metadata": {},
   "outputs": [
    {
     "name": "stdout",
     "output_type": "stream",
     "text": [
      "True\n",
      "False\n"
     ]
    }
   ],
   "source": [
    "a = 7\n",
    "print(not a == 4)\n",
    "print(not a)"
   ]
  },
  {
   "cell_type": "code",
   "execution_count": 31,
   "id": "8af9a5a8-241c-4271-971c-ad23bbe9b0ab",
   "metadata": {},
   "outputs": [
    {
     "name": "stdout",
     "output_type": "stream",
     "text": [
      "2\n"
     ]
    }
   ],
   "source": [
    "print(0 or 2)"
   ]
  },
  {
   "cell_type": "code",
   "execution_count": 32,
   "id": "7b9246f0-9018-4972-8977-7cc787a54aac",
   "metadata": {},
   "outputs": [
    {
     "name": "stdout",
     "output_type": "stream",
     "text": [
      "1\n"
     ]
    }
   ],
   "source": [
    "print(1 or 2)"
   ]
  },
  {
   "cell_type": "code",
   "execution_count": 33,
   "id": "d724d46b-0608-4a5f-9f39-c11634f8321a",
   "metadata": {},
   "outputs": [
    {
     "name": "stdout",
     "output_type": "stream",
     "text": [
      "0\n"
     ]
    }
   ],
   "source": [
    "print(0 and 2)"
   ]
  },
  {
   "cell_type": "code",
   "execution_count": 34,
   "id": "a3934645-c15c-4c87-af59-dfa8626331b1",
   "metadata": {},
   "outputs": [
    {
     "name": "stdout",
     "output_type": "stream",
     "text": [
      "2\n"
     ]
    }
   ],
   "source": [
    "print(1 and 2)"
   ]
  },
  {
   "cell_type": "code",
   "execution_count": 36,
   "id": "6659068d-6896-4d58-9ec5-9b2465606340",
   "metadata": {},
   "outputs": [
    {
     "name": "stdout",
     "output_type": "stream",
     "text": [
      "Konrad\n"
     ]
    }
   ],
   "source": [
    "imie = 'Konrad'\n",
    "imie = imie or 'Jan'\n",
    "print(imie)"
   ]
  },
  {
   "cell_type": "code",
   "execution_count": 37,
   "id": "a618848b-80e2-4d6d-8c72-2b13f2e3efe9",
   "metadata": {},
   "outputs": [
    {
     "name": "stdout",
     "output_type": "stream",
     "text": [
      "Konrad\n"
     ]
    }
   ],
   "source": [
    "imie = ''\n",
    "imie = imie or 'Konrad'\n",
    "print(imie)"
   ]
  },
  {
   "cell_type": "code",
   "execution_count": 39,
   "id": "d3ea16de-9d60-48cf-bafb-28ce87241617",
   "metadata": {},
   "outputs": [
    {
     "name": "stdin",
     "output_type": "stream",
     "text": [
      "Podaj rok:  2000\n"
     ]
    },
    {
     "name": "stdout",
     "output_type": "stream",
     "text": [
      "True\n"
     ]
    }
   ],
   "source": [
    "rok = int(input(\"Podaj rok: \"))\n",
    "\n",
    "przestepny = rok%4 == 0\n",
    "\n",
    "print(przestepny)"
   ]
  },
  {
   "cell_type": "code",
   "execution_count": 42,
   "id": "ecd47ac9-1015-418e-890e-22e66212d9c3",
   "metadata": {},
   "outputs": [
    {
     "name": "stdin",
     "output_type": "stream",
     "text": [
      "Podaj kwote poczatkowa:  10000\n",
      "Podaj oprocentowanie:  5.75\n",
      "Podaj liczbe lat:  1\n"
     ]
    },
    {
     "name": "stdout",
     "output_type": "stream",
     "text": [
      "10575.000000000002\n"
     ]
    }
   ],
   "source": [
    "kwota = float(input(\"Podaj kwote poczatkowa: \"))\n",
    "procent = float(input(\"Podaj oprocentowanie: \"))\n",
    "lat = int(input(\"Podaj liczbe lat: \"))\n",
    "\n",
    "stan = kwota*(1+procent/100)**lat\n",
    "\n",
    "print(stan)"
   ]
  },
  {
   "cell_type": "code",
   "execution_count": null,
   "id": "3b152cc6-3eef-4287-944b-7dcb07778fda",
   "metadata": {},
   "outputs": [],
   "source": []
  }
 ],
 "metadata": {
  "kernelspec": {
   "display_name": "Python 3 (ipykernel)",
   "language": "python",
   "name": "python3"
  },
  "language_info": {
   "codemirror_mode": {
    "name": "ipython",
    "version": 3
   },
   "file_extension": ".py",
   "mimetype": "text/x-python",
   "name": "python",
   "nbconvert_exporter": "python",
   "pygments_lexer": "ipython3",
   "version": "3.9.12"
  }
 },
 "nbformat": 4,
 "nbformat_minor": 5
}
