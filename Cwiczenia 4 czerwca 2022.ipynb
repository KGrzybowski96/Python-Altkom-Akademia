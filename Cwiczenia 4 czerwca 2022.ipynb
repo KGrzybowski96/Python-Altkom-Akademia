{
 "cells": [
  {
   "cell_type": "code",
   "execution_count": 1,
   "id": "33e70200-2d09-44fa-87a9-800466295bf3",
   "metadata": {},
   "outputs": [
    {
     "name": "stdin",
     "output_type": "stream",
     "text": [
      "Ile Liczb:  100\n",
      "Ile skreslen:  5\n"
     ]
    },
    {
     "name": "stdout",
     "output_type": "stream",
     "text": [
      "75287520\n"
     ]
    }
   ],
   "source": [
    "import math\n",
    "\n",
    "liczb = int(input(\"Ile Liczb: \"))\n",
    "skres = int(input(\"Ile skreslen: \"))\n",
    "\n",
    "kombinacji = math.factorial(liczb)//(math.factorial(skres)*math.factorial(liczb-skres))\n",
    "\n",
    "print(kombinacji)"
   ]
  },
  {
   "cell_type": "code",
   "execution_count": 44,
   "id": "19e6ab63-f8c6-4811-b2c3-05cf808c6c56",
   "metadata": {},
   "outputs": [
    {
     "name": "stdin",
     "output_type": "stream",
     "text": [
      "Podaj swój wzrost w metrach:  1.7\n",
      "Podaj swoją wagę w kg:  75\n"
     ]
    },
    {
     "name": "stdout",
     "output_type": "stream",
     "text": [
      "Nadwaga 25.95155709342561\n"
     ]
    }
   ],
   "source": [
    "import math\n",
    "\n",
    "wzrost = float(input(\"Podaj swój wzrost w metrach: \"))\n",
    "waga = int(input(\"Podaj swoją wagę w kg: \"))\n",
    "bmi = waga/wzrost**2\n",
    "\n",
    "diagnoza = ''\n",
    "\n",
    "if bmi < 16:\n",
    "        diagnoza = (\"Wygłodzenie\")\n",
    "elif bmi < 16.99:\n",
    "        diagnoza = (\"Wychudzenie\")\n",
    "elif bmi < 18.49:\n",
    "        diagnoza = (\"Niedowaga\")\n",
    "elif bmi < 24.99:\n",
    "        diagnoza = (\"Wartosc Prawidlowa\")\n",
    "elif bmi < 29.99:\n",
    "        diagnoza = (\"Nadwaga\")\n",
    "elif bmi < 34.99:\n",
    "        diagnoza = (\"I stopien otylosci\")\n",
    "elif bmi < 39.99:\n",
    "        diagnoza = (\"II stopien otylosci\")\n",
    "elif bmi < 40:\n",
    "    diagnoza = (\"III stopien otylosci\")\n",
    "        \n",
    "print(diagnoza, bmi)\n"
   ]
  },
  {
   "cell_type": "code",
   "execution_count": 53,
   "id": "06a70954-4690-490c-93df-4bfe3f1181b5",
   "metadata": {},
   "outputs": [
    {
     "name": "stdin",
     "output_type": "stream",
     "text": [
      "Podaj dzień:  4\n",
      "Podaj miesiac:  6\n",
      "Podaj rok:  2022\n"
     ]
    },
    {
     "name": "stdout",
     "output_type": "stream",
     "text": [
      "sobota\n"
     ]
    }
   ],
   "source": [
    "d = int(input(\"Podaj dzień: \"))\n",
    "m = int(input(\"Podaj miesiac: \"))\n",
    "y = int(input(\"Podaj rok: \"))\n",
    "\n",
    "z = y-1 if m<3 else y\n",
    "c = 0 if m<3 else 2\n",
    "\n",
    "d_t = (23*m//9 + d + 4 + y + z//4 - z//100 + z//400 - c) % 7\n",
    "\n",
    "if d_t == 1:\n",
    "    nazwa = (\"Poniedzialek\")\n",
    "elif d_t == 2:\n",
    "    nazwa = (\"Wtorek\")\n",
    "elif d_t == 3:\n",
    "    nazwa = (\"środa\")\n",
    "elif d_t == 4:\n",
    "    nazwa = (\"czwartek\")\n",
    "elif d_t == 5:\n",
    "    nazwa = (\"piątek\")\n",
    "elif d_t == 6:\n",
    "    nazwa = (\"sobota\")\n",
    "elif d_t == 7:\n",
    "    nazwa = (\"niedziela\")\n",
    "\n",
    "print(nazwa)\n",
    "\n"
   ]
  },
  {
   "cell_type": "code",
   "execution_count": 54,
   "id": "73f10408-ac0f-4c07-8ec6-b28a3a158c87",
   "metadata": {},
   "outputs": [
    {
     "name": "stdout",
     "output_type": "stream",
     "text": [
      "UNESCO\n"
     ]
    }
   ],
   "source": [
    "name = 'United Nations Educational, Scientific and Cultural Organization'\n",
    "\n",
    "abbr=''\n",
    "\n",
    "for l in name:\n",
    "    if l.isupper():\n",
    "        abbr += l\n",
    "print(abbr)\n"
   ]
  },
  {
   "cell_type": "code",
   "execution_count": 55,
   "id": "6949c680-633a-4442-bf3e-3cb8bbaece63",
   "metadata": {},
   "outputs": [
    {
     "name": "stdout",
     "output_type": "stream",
     "text": [
      "UNESCO\n"
     ]
    }
   ],
   "source": [
    "abbr = ''\n",
    "words = name.split()\n",
    "\n",
    "for word in words:\n",
    "    if word[0].isupper():\n",
    "        abbr += word[0]\n",
    "print(abbr)"
   ]
  },
  {
   "cell_type": "code",
   "execution_count": 56,
   "id": "9971bce1-db0b-4c77-a7dd-bb75fc874cb0",
   "metadata": {},
   "outputs": [
    {
     "name": "stdin",
     "output_type": "stream",
     "text": [
      "dzień:  4\n",
      "miesiac:  8\n",
      "rok:  2017\n"
     ]
    },
    {
     "name": "stdout",
     "output_type": "stream",
     "text": [
      "piątek\n"
     ]
    }
   ],
   "source": [
    "d = int(input(\"dzień: \") or 4)\n",
    "m = int(input(\"miesiac: \") or 6)\n",
    "y = int(input(\"rok: \") or 2022)\n",
    "\n",
    "z = y-1 if m<3 else y\n",
    "c = 0 if m<3 else 2\n",
    "\n",
    "d_t = (23*m//9 + d + 4 + y + z//4 - z//100 + z//400 - c) % 7\n",
    "\n",
    "dni_tyg = ('niedziela', 'poniedziałek', 'wtorek', 'środa', 'czwartek', 'piątek', 'sobota')\n",
    "\n",
    "print(dni_tyg[d_t])\n"
   ]
  },
  {
   "cell_type": "code",
   "execution_count": 62,
   "id": "e1eb2875-9877-4aed-a6b5-fd6f8214dfdd",
   "metadata": {},
   "outputs": [
    {
     "name": "stdin",
     "output_type": "stream",
     "text": [
      "rok:  2012\n"
     ]
    },
    {
     "name": "stdout",
     "output_type": "stream",
     "text": [
      "1\n",
      "4\n",
      "7\n",
      "W roku 2012 było 3 piątków trzynastego.\n"
     ]
    }
   ],
   "source": [
    "d = 13\n",
    "y = int(input(\"rok: \") or 2022)\n",
    "\n",
    "pechowe = 0\n",
    "\n",
    "for m in range(1,13):\n",
    "    z = y-1 if m<3 else y\n",
    "    c = 0 if m<3 else 2\n",
    "    d_t = (23*m//9 + d + 4 + y + z//4 - z//100 + z//400 - c) % 7\n",
    "    if d_t == 5:\n",
    "        print(m)\n",
    "        pechowe += 1\n",
    "\n",
    "print(f\"W roku {y} było {pechowe} piątków trzynastego.\")\n"
   ]
  },
  {
   "cell_type": "code",
   "execution_count": null,
   "id": "5fb8da34-aebe-4daf-8b6c-6ee2efa8a468",
   "metadata": {},
   "outputs": [],
   "source": []
  }
 ],
 "metadata": {
  "kernelspec": {
   "display_name": "Python 3 (ipykernel)",
   "language": "python",
   "name": "python3"
  },
  "language_info": {
   "codemirror_mode": {
    "name": "ipython",
    "version": 3
   },
   "file_extension": ".py",
   "mimetype": "text/x-python",
   "name": "python",
   "nbconvert_exporter": "python",
   "pygments_lexer": "ipython3",
   "version": "3.9.12"
  }
 },
 "nbformat": 4,
 "nbformat_minor": 5
}
