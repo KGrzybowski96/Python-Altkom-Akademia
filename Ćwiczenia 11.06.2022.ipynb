{
 "cells": [
  {
   "cell_type": "code",
   "execution_count": null,
   "id": "0dcdb85c",
   "metadata": {},
   "outputs": [],
   "source": [
    "lista_osob = [\n",
    "    {'imie': 'Stefan', 'nazwisko': 'Mierzyński', 'wiek': 30, 'miasto': 'Bydgoszcz', 'branża': 'Marketing', 'płeć': 'Mężczyzna'},\n",
    "    {'imie': 'Maria', 'nazwisko': 'Kowalska', 'wiek': 25, 'miasto': 'Warszawa', 'branża': 'HR', 'płeć': 'Kobieta'},\n",
    "    {'imie': 'Konrad', 'nazwisko': 'Grzybowski', 'wiek': 26, 'miasto': 'Wroclaw', 'branża': 'IT', 'płeć': 'Mężczyzna'},\n",
    "    {'imie': 'Jan', 'nazwisko': 'But', 'wiek': 55, 'miasto': 'Płock', 'branża': 'Logistyka', 'płeć': 'Mężczyzna'},\n",
    "    {'imie': 'Janina', 'nazwisko': 'Kopała', 'wiek': 47, 'miasto': 'Radom', 'branża': 'Produkcja', 'płeć': 'Kobieta'},\n",
    "    {'imie': 'Janusz', 'nazwisko': 'Kowalski', 'wiek': 56, 'miasto': 'Sopot', 'branża': 'Hotelarstwo', 'płeć': 'Mężczyzna'},\n",
    "    {'imie': 'Małgorzata', 'nazwisko': 'Łopata', 'wiek': 23, 'miasto': 'Sandomierz', 'branża': 'Sprzedaż', 'płeć': 'Kobieta'},\n",
    "    {'imie': 'Leszek', 'nazwisko': 'Wesołowski', 'wiek': 36, 'miasto': 'Poznań', 'branża': 'Sprzedaż', 'płeć': 'Mężczyzna'}\n",
    "]\n",
    "\n",
    "def mlodszy_od_30(osoba):\n",
    "    return osoba['wiek'] < 30\n",
    "\n",
    "mlodzi = filter(mlodszy_od_30, lista_osob)\n",
    "\n",
    "print(*mlodzi)\n",
    "\n",
    "def postarz_o_rok(osoba):\n",
    "    osoba['wiek'] += 1\n",
    "    return osoba\n",
    "\n",
    "starsi = map(postarz_o_rok, lista_osob)\n",
    "\n",
    "def zmiana_miasta(osoba):\n",
    "    osoba['miasto'] += 'Wrocław'\n",
    "    return osoba\n",
    "\n",
    "miasta = map(zmiana_miasta, lista_osob)\n",
    "\n",
    "print(*starsi)"
   ]
  },
  {
   "cell_type": "code",
   "execution_count": null,
   "id": "e96fddbf",
   "metadata": {
    "scrolled": true
   },
   "outputs": [],
   "source": [
    "def key_nazwiskoimie(osoba):\n",
    "    return osoba['nazwisko'], osoba['imie']\n",
    "\n",
    "for osoba in sorted(lista_osob, key=key_nazwiskoimie):\n",
    "    print(osoba['nazwisko'], osoba['imie'])\n",
    "    "
   ]
  },
  {
   "cell_type": "code",
   "execution_count": null,
   "id": "e2966fc9",
   "metadata": {},
   "outputs": [],
   "source": [
    "def key_nazwiskoimie(osoba):\n",
    "    return osoba['nazwisko'], osoba['imie']\n",
    "\n",
    "for osoba in sorted(lista_osob, key=lambda osoba: (osoba['nazwisko'] + osoba['imie']) ):\n",
    "    print(osoba)"
   ]
  },
  {
   "cell_type": "code",
   "execution_count": 4,
   "id": "e1cb8b60",
   "metadata": {},
   "outputs": [
    {
     "name": "stdout",
     "output_type": "stream",
     "text": [
      "{'imie': 'Stefan', 'nazwisko': 'Mierzyński', 'wiek': 25} {'imie': 'Maria', 'nazwisko': 'Kowalska', 'wiek': 28}\n",
      "****************************************\n",
      "{'imie': 'Stefan', 'nazwisko': 'Mierzyński', 'wiek': 25} {'imie': 'Maria', 'nazwisko': 'Kowalska', 'wiek': 28}\n",
      "****************************************\n",
      "{'imie': 'Stefan', 'nazwisko': 'Mierzyński', 'wiek': 26} {'imie': 'Jan', 'nazwisko': 'Nowak', 'wiek': 36} {'imie': 'Anna', 'nazwisko': 'Nowak', 'wiek': 37} {'imie': 'Maria', 'nazwisko': 'Kowalska', 'wiek': 29}\n",
      "****************************************\n",
      "{'imie': 'Stefan', 'nazwisko': 'Mierzyński', 'wiek': 27} {'imie': 'Jan', 'nazwisko': 'Nowak', 'wiek': 37} {'imie': 'Anna', 'nazwisko': 'Nowak', 'wiek': 38} {'imie': 'Maria', 'nazwisko': 'Kowalska', 'wiek': 30}\n"
     ]
    }
   ],
   "source": [
    "lista_osob = [\n",
    "    {'imie': 'Stefan', 'nazwisko': 'Mierzyński', 'wiek': 25},\n",
    "    {'imie': 'Jan', 'nazwisko': 'Nowak', 'wiek': 35},\n",
    "    {'imie': 'Anna', 'nazwisko': 'Nowak', 'wiek': 36},\n",
    "    {'imie': 'Maria', 'nazwisko': 'Kowalska', 'wiek': 28}\n",
    "]\n",
    "\n",
    "def mlodszy_od_30(osoba):\n",
    "    return osoba['wiek'] < 30\n",
    "\n",
    "mlodzi = filter(mlodszy_od_30, lista_osob)\n",
    "\n",
    "print(*mlodzi)\n",
    "print('*'*40)\n",
    "\n",
    "mlodzi2 = filter(lambda osoba: osoba['wiek'] < 30, lista_osob)\n",
    "\n",
    "print(*mlodzi2)\n",
    "print('*'*40)\n",
    "\n",
    "def postarz_o_rok(osoba):\n",
    "    osoba['wiek'] += 1\n",
    "    return osoba\n",
    "\n",
    "starsi = map(postarz_o_rok, lista_osob)\n",
    "\n",
    "print(*starsi)\n",
    "print('*'*40)\n",
    "\n",
    "starsi2 = map(lambda osoba: {'imie': osoba['imie'], 'nazwisko': osoba['nazwisko'], 'wiek': osoba['wiek']+1}, lista_osob)\n",
    "print(*starsi2)"
   ]
  },
  {
   "cell_type": "code",
   "execution_count": 5,
   "id": "e08fb75a",
   "metadata": {},
   "outputs": [
    {
     "name": "stdout",
     "output_type": "stream",
     "text": [
      "{'imie': 'Stefan', 'nazwisko': 'Mierzyński', 'wiek': 26}\n",
      "{'imie': 'Maria', 'nazwisko': 'Kowalska', 'wiek': 29}\n",
      "{'imie': 'Jan', 'nazwisko': 'Nowak', 'wiek': 36}\n",
      "{'imie': 'Anna', 'nazwisko': 'Nowak', 'wiek': 37}\n",
      "****************************************\n",
      "{'imie': 'Stefan', 'nazwisko': 'Mierzyński', 'wiek': 26}\n",
      "{'imie': 'Maria', 'nazwisko': 'Kowalska', 'wiek': 29}\n",
      "{'imie': 'Jan', 'nazwisko': 'Nowak', 'wiek': 36}\n",
      "{'imie': 'Anna', 'nazwisko': 'Nowak', 'wiek': 37}\n",
      "****************************************\n",
      "{'imie': 'Maria', 'nazwisko': 'Kowalska', 'wiek': 29}\n",
      "{'imie': 'Stefan', 'nazwisko': 'Mierzyński', 'wiek': 26}\n",
      "{'imie': 'Anna', 'nazwisko': 'Nowak', 'wiek': 37}\n",
      "{'imie': 'Jan', 'nazwisko': 'Nowak', 'wiek': 36}\n"
     ]
    }
   ],
   "source": [
    "def key_wiek(osoba):\n",
    "    return osoba['wiek']\n",
    "\n",
    "for osoba in sorted(lista_osob, key=key_wiek):\n",
    "    print(osoba)\n",
    "    \n",
    "print('*'*40)\n",
    "# sortowanie po (nazwisko, imie)\n",
    "\n",
    "for osoba in sorted(lista_osob, key=lambda osoba: osoba['wiek']):\n",
    "    print(osoba)\n",
    "    \n",
    "print('*'*40)\n",
    "\n",
    "for osoba in sorted(lista_osob, key=lambda osoba: (osoba['nazwisko'], osoba['imie'])):\n",
    "    print(osoba)"
   ]
  },
  {
   "cell_type": "code",
   "execution_count": 19,
   "id": "ae043f14",
   "metadata": {},
   "outputs": [
    {
     "name": "stdout",
     "output_type": "stream",
     "text": [
      "Wyszukać osobę? t\n",
      "Wpisz imię wyszukiwanej osoby: k\n",
      "brak osoby\n",
      "Wyszukać osobę? \n",
      "Koniec wyszukiwania\n",
      "\n"
     ]
    }
   ],
   "source": [
    "import datetime\n",
    "\n",
    "\n",
    "class Person:\n",
    "\n",
    "    def __init__(self, name, second_name, gender, year_brth, address):\n",
    "        self.name = name\n",
    "        self.second_name = second_name\n",
    "        self.gender = gender\n",
    "        self.year_brth = year_brth\n",
    "        self.address = address\n",
    "\n",
    "    def get_name(self):\n",
    "        return self.__name\n",
    "    def get_second_name(self):\n",
    "        return self.__second_name\n",
    "    def gender(self):\n",
    "        return self.__gender()\n",
    "    def year_brth(self):\n",
    "        return self.__year_brth\n",
    "    def address(self):\n",
    "        return self.__address\n",
    "\n",
    "    def get_gender(self):\n",
    "        if self.gender:\n",
    "            return 'mężczyzna'\n",
    "        else:\n",
    "            return 'kobieta'\n",
    "\n",
    "    def ile_lat(self):\n",
    "        return datetime.date.today().year - self.year_brth\n",
    "\n",
    "    def __str__(self):\n",
    "        return (self.name + ' ' + self.second_name + ', płeć: ' + self.get_gender() + ', wiek: '\n",
    "                + str(self.ile_lat()) + ' lat')\n",
    "\n",
    "\n",
    "ivan = Person('Ivan', 'Konoval', True, 1998, 'Rodziewiczówny 7/7, 50-000 Wrocław')\n",
    "julia = Person('Julia', 'Wójcik', False, 2000, 'Ulanowskiego 16/2')\n",
    "grzegorz = Person('Grzegorz', 'Kosiak', True, 1988, 'Sucha 1')\n",
    "janusz = Person('Janusz', 'Abramowicz', True, 1700, 'Swobodna 70/22')\n",
    "wiciu = Person('Wiktor', 'Rak', True, 2021, 'Plac Wolności 1')\n",
    "\n",
    "while True:\n",
    "    exit1 = input('Wyszukać osobę? ')\n",
    "    if exit1.upper() == 'TAK' or exit1.upper() == \"YES\" or exit1.upper() == \"T\" or exit1.upper() == \"Y\":\n",
    "        try:\n",
    "            exit2 = input('Wpisz imię wyszukiwanej osoby: ')\n",
    "            if exit2.upper() == 'IVAN':\n",
    "                print(ivan.__str__())\n",
    "            elif exit2.upper() == 'JULIA':\n",
    "                print(julia.__str__())\n",
    "            elif exit2.upper() == 'GRZEGORZ':\n",
    "                print(grzegorz.__str__())\n",
    "            elif exit2.upper() == 'JANUSZ':\n",
    "                print(janusz.__str__())\n",
    "            elif exit2.lower() == 'wiciu':\n",
    "                print(wiciu.__str__())\n",
    "            else:\n",
    "                print('brak osoby')\n",
    "        except Exception:\n",
    "            print(Exception.__name__)\n",
    "    else:\n",
    "        print('Koniec wyszukiwania\\n')\n",
    "        break"
   ]
  },
  {
   "cell_type": "code",
   "execution_count": 24,
   "id": "0fbedee3",
   "metadata": {},
   "outputs": [
    {
     "name": "stdout",
     "output_type": "stream",
     "text": [
      "Obywatel Adam\n",
      "Adam\n",
      "Obywatel Ewa\n"
     ]
    }
   ],
   "source": [
    "class Osoba:\n",
    "    def __init__(self, name):\n",
    "        self.__set_name(name)\n",
    "    \n",
    "    def __set_name(self, name):\n",
    "        self.__name = name if name != '' else 'NN'\n",
    "        \n",
    "    def __get_name(self):\n",
    "        return self.__name\n",
    "    \n",
    "    name = property(__get_name, __set_name)\n",
    "    \n",
    "    def __str__(self):\n",
    "        return f\"Obywatel {self.__get_name()}\"\n",
    "    \n",
    "os1 = Osoba('Adam')\n",
    "print(os1)\n",
    "print(os1.name)\n",
    "os1.name = 'Ewa'\n",
    "print(os1)"
   ]
  },
  {
   "cell_type": "code",
   "execution_count": null,
   "id": "4041a4f0",
   "metadata": {},
   "outputs": [],
   "source": []
  }
 ],
 "metadata": {
  "kernelspec": {
   "display_name": "Python 3 (ipykernel)",
   "language": "python",
   "name": "python3"
  },
  "language_info": {
   "codemirror_mode": {
    "name": "ipython",
    "version": 3
   },
   "file_extension": ".py",
   "mimetype": "text/x-python",
   "name": "python",
   "nbconvert_exporter": "python",
   "pygments_lexer": "ipython3",
   "version": "3.9.12"
  }
 },
 "nbformat": 4,
 "nbformat_minor": 5
}
