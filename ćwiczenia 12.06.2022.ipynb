{
 "cells": [
  {
   "cell_type": "code",
   "execution_count": null,
   "id": "6c2678c7",
   "metadata": {},
   "outputs": [],
   "source": [
    "import requests\n",
    "\n",
    "r = requests.request('GET', 'https://wago.com')\n",
    "print(r.status_code)\n",
    "print(r.headers)\n",
    "print(r.content)"
   ]
  },
  {
   "cell_type": "code",
   "execution_count": 4,
   "id": "4bcdf1af",
   "metadata": {},
   "outputs": [
    {
     "name": "stdout",
     "output_type": "stream",
     "text": [
      "ąśćńźżółę\n",
      "ąśćńźżółę\n",
      "\n",
      "\n",
      "ĄŚĆŃŹŻÓŁĘ\n",
      "ĄŚĆŃŹŻÓŁĘ\n"
     ]
    }
   ],
   "source": [
    "with open('test.txt', encoding=\"utf-8\") as plik, open('test.txt', encoding=\"utf-8\") as plik2:\n",
    "            for linia in plik:\n",
    "                print(linia,end='')\n",
    "                print(plik2.readline(), end='')"
   ]
  },
  {
   "cell_type": "code",
   "execution_count": 5,
   "id": "a0a1a54f",
   "metadata": {},
   "outputs": [
    {
     "name": "stdout",
     "output_type": "stream",
     "text": [
      "ąśćńźżółę\n",
      "\n",
      "\n",
      "\n",
      "ĄŚĆŃŹŻÓŁĘ\n",
      "\n",
      "ąśćńźżółę\n",
      "\n",
      "\n",
      "\n",
      "ĄŚĆŃŹŻÓŁĘ\n",
      "\n"
     ]
    }
   ],
   "source": [
    "with open('test.txt', encoding=\"utf-8\") as plik:\n",
    "    for linia in plik:\n",
    "        print(linia)\n",
    "with open('test.txt', encoding=\"utf-8\") as plik2:\n",
    "    for linia in plik2:\n",
    "        print(linia)"
   ]
  },
  {
   "cell_type": "code",
   "execution_count": null,
   "id": "7d271166",
   "metadata": {},
   "outputs": [],
   "source": []
  }
 ],
 "metadata": {
  "kernelspec": {
   "display_name": "Python 3 (ipykernel)",
   "language": "python",
   "name": "python3"
  },
  "language_info": {
   "codemirror_mode": {
    "name": "ipython",
    "version": 3
   },
   "file_extension": ".py",
   "mimetype": "text/x-python",
   "name": "python",
   "nbconvert_exporter": "python",
   "pygments_lexer": "ipython3",
   "version": "3.9.12"
  }
 },
 "nbformat": 4,
 "nbformat_minor": 5
}
